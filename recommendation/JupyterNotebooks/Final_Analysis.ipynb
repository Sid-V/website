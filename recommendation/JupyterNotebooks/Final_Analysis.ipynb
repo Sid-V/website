{
 "cells": [
  {
   "cell_type": "code",
   "execution_count": 1,
   "metadata": {},
   "outputs": [],
   "source": [
    "import pandas as pd\n",
    "from sklearn.metrics.pairwise import cosine_similarity\n",
    "import numpy as np\n",
    "import spotipy\n",
    "from spotipy.oauth2 import SpotifyClientCredentials"
   ]
  },
  {
   "cell_type": "code",
   "execution_count": 2,
   "metadata": {},
   "outputs": [],
   "source": [
    "client_id = \"5a53b08bc80c4eee9c9e951aa6053549\"\n",
    "client_secret = \"fe9f75fa5ad74bb28b764155b16f7cbd\"\n",
    "client_credentials_manager = SpotifyClientCredentials(client_id, client_secret)\n",
    "sp = spotipy.Spotify(client_credentials_manager=client_credentials_manager)"
   ]
  },
  {
   "cell_type": "code",
   "execution_count": 3,
   "metadata": {},
   "outputs": [
    {
     "data": {
      "text/html": [
       "<div>\n",
       "<style scoped>\n",
       "    .dataframe tbody tr th:only-of-type {\n",
       "        vertical-align: middle;\n",
       "    }\n",
       "\n",
       "    .dataframe tbody tr th {\n",
       "        vertical-align: top;\n",
       "    }\n",
       "\n",
       "    .dataframe thead th {\n",
       "        text-align: right;\n",
       "    }\n",
       "</style>\n",
       "<table border=\"1\" class=\"dataframe\">\n",
       "  <thead>\n",
       "    <tr style=\"text-align: right;\">\n",
       "      <th></th>\n",
       "      <th>danceability</th>\n",
       "      <th>energy</th>\n",
       "      <th>speechiness</th>\n",
       "      <th>acousticness</th>\n",
       "      <th>instrumentalness</th>\n",
       "      <th>tempo</th>\n",
       "    </tr>\n",
       "  </thead>\n",
       "  <tbody>\n",
       "    <tr>\n",
       "      <th>0</th>\n",
       "      <td>0.1</td>\n",
       "      <td>0.3</td>\n",
       "      <td>0.1</td>\n",
       "      <td>0.1</td>\n",
       "      <td>0.9</td>\n",
       "      <td>0.9</td>\n",
       "    </tr>\n",
       "  </tbody>\n",
       "</table>\n",
       "</div>"
      ],
      "text/plain": [
       "   danceability  energy  speechiness  acousticness  instrumentalness  tempo\n",
       "0           0.1     0.3          0.1           0.1               0.9    0.9"
      ]
     },
     "metadata": {},
     "output_type": "display_data"
    }
   ],
   "source": [
    "music_features = pd.read_csv(\"music_features.csv\")\n",
    "ids = pd.read_csv(\"song_ids.csv\", header=None)[0].values\n",
    "\n",
    "music_features2 = music_features[:1].copy(deep=True)\n",
    "# display(music_features)\n",
    "# display(music_features2)\n",
    "\n",
    "music_features2.loc[0, \"danceability\"] = 0.1\n",
    "music_features2.loc[0, \"energy\"] = 0.3\n",
    "music_features2.loc[0, \"speechiness\"] = 0.1\n",
    "music_features2.loc[0, \"acousticness\"] = 0.1\n",
    "music_features2.loc[0, \"instrumentalness\"] = 0.9\n",
    "music_features2.loc[0, \"tempo\"] = 0.9\n",
    "\n",
    "\n",
    "display(music_features2)\n",
    "\n",
    "cosine_sim = cosine_similarity(music_features, music_features2)\n",
    "cosine_sim = cosine_sim.flatten()\n",
    "\n",
    "\n",
    "#print(cosine_sim)\n",
    "\n",
    "\n",
    "max9index = np.argsort(cosine_sim)[-9:][::-1]\n",
    "#max3index2 = np.argpartition(cosine_sim,-3)[-3:]\n",
    "#print(max3index)\n",
    "#print(max3index2)\n",
    "\n",
    "\n",
    "rec_ids = []\n",
    "for idx in max9index:\n",
    "    rec_ids.append(sp.track(ids[idx]))\n",
    "\n",
    "#display(rec_ids)\n"
   ]
  },
  {
   "cell_type": "code",
   "execution_count": 4,
   "metadata": {},
   "outputs": [
    {
     "name": "stdout",
     "output_type": "stream",
     "text": [
      "['https://open.spotify.com/embed/track/1zyMwU1NtRDkuQWthUbGsL', 'https://open.spotify.com/embed/track/2W2e6TBrwJt4ASh5jyYgvZ', 'https://open.spotify.com/embed/track/5IqjAH2ynF7320IVnqfjlT', 'https://open.spotify.com/embed/track/31NiyZrUd1r4icY7xkvnWv', 'https://open.spotify.com/embed/track/3iNj5fdyY62N1ycufQ3E2M', 'https://open.spotify.com/embed/track/3Le7mfkPuS7lNLpYY3Luzs', 'https://open.spotify.com/embed/track/3mPlxGJNqQNYkF7YdMoAU0', 'https://open.spotify.com/embed/track/1KZrUPMciRaJNDRtTVgokL', 'https://open.spotify.com/embed/track/3EqfkwoSbO6qnn6Agw085M']\n"
     ]
    }
   ],
   "source": [
    "embed = []\n",
    "string = ''\n",
    "for items in rec_ids:\n",
    "    string = items['external_urls']['spotify']\n",
    "    string = string[:25] + 'embed/' + string[25:]\n",
    "    embed.append(string)\n",
    "print(embed)"
   ]
  }
 ],
 "metadata": {
  "kernelspec": {
   "display_name": "Python 3",
   "language": "python",
   "name": "python3"
  },
  "language_info": {
   "codemirror_mode": {
    "name": "ipython",
    "version": 3
   },
   "file_extension": ".py",
   "mimetype": "text/x-python",
   "name": "python",
   "nbconvert_exporter": "python",
   "pygments_lexer": "ipython3",
   "version": "3.7.4"
  }
 },
 "nbformat": 4,
 "nbformat_minor": 2
}
